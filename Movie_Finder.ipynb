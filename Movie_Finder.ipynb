{
 "cells": [
  {
   "cell_type": "code",
   "execution_count": 1,
   "id": "julian-tyler",
   "metadata": {},
   "outputs": [],
   "source": [
    "import pandas as pd\n",
    "from pandas import DataFrame"
   ]
  },
  {
   "cell_type": "code",
   "execution_count": 2,
   "id": "latter-vatican",
   "metadata": {},
   "outputs": [],
   "source": [
    "df = pd.read_csv('MoviesOnStreamingPlatforms_updated.csv')"
   ]
  },
  {
   "cell_type": "code",
   "execution_count": 3,
   "id": "dedicated-session",
   "metadata": {},
   "outputs": [],
   "source": [
    "#A dataframe with all the types of movie genres\n",
    "genres = df['Genres'].unique().tolist()\n",
    "genres = DataFrame (genres, columns=['Genres'])"
   ]
  },
  {
   "cell_type": "code",
   "execution_count": 4,
   "id": "architectural-edgar",
   "metadata": {},
   "outputs": [],
   "source": [
    "#There are a lot of different genres. So in order for the user to know the genres to look for, we are going to sample 10 of them as reference."
   ]
  },
  {
   "cell_type": "code",
   "execution_count": 5,
   "id": "secret-elevation",
   "metadata": {},
   "outputs": [
    {
     "data": {
      "text/html": [
       "<div>\n",
       "<style scoped>\n",
       "    .dataframe tbody tr th:only-of-type {\n",
       "        vertical-align: middle;\n",
       "    }\n",
       "\n",
       "    .dataframe tbody tr th {\n",
       "        vertical-align: top;\n",
       "    }\n",
       "\n",
       "    .dataframe thead th {\n",
       "        text-align: right;\n",
       "    }\n",
       "</style>\n",
       "<table border=\"1\" class=\"dataframe\">\n",
       "  <thead>\n",
       "    <tr style=\"text-align: right;\">\n",
       "      <th></th>\n",
       "      <th>Genres</th>\n",
       "    </tr>\n",
       "  </thead>\n",
       "  <tbody>\n",
       "    <tr>\n",
       "      <th>177</th>\n",
       "      <td>Animation,Adventure,Comedy,Family,Fantasy,Mystery</td>\n",
       "    </tr>\n",
       "    <tr>\n",
       "      <th>1326</th>\n",
       "      <td>Animation,Comedy,Drama,Family,Music,Musical,Ro...</td>\n",
       "    </tr>\n",
       "    <tr>\n",
       "      <th>156</th>\n",
       "      <td>Action,Crime,Horror,Sci-Fi,Thriller</td>\n",
       "    </tr>\n",
       "    <tr>\n",
       "      <th>1007</th>\n",
       "      <td>Biography,Musical</td>\n",
       "    </tr>\n",
       "    <tr>\n",
       "      <th>1321</th>\n",
       "      <td>Comedy,Family,Fantasy,Horror,Mystery</td>\n",
       "    </tr>\n",
       "    <tr>\n",
       "      <th>820</th>\n",
       "      <td>Action,Crime,Drama,History,Thriller</td>\n",
       "    </tr>\n",
       "    <tr>\n",
       "      <th>632</th>\n",
       "      <td>Animation,Short,Adventure,Comedy,Family,Fantas...</td>\n",
       "    </tr>\n",
       "    <tr>\n",
       "      <th>267</th>\n",
       "      <td>Romance</td>\n",
       "    </tr>\n",
       "    <tr>\n",
       "      <th>245</th>\n",
       "      <td>Action,Crime,Sci-Fi,Thriller</td>\n",
       "    </tr>\n",
       "    <tr>\n",
       "      <th>506</th>\n",
       "      <td>Fantasy,Horror,Mystery,Thriller</td>\n",
       "    </tr>\n",
       "  </tbody>\n",
       "</table>\n",
       "</div>"
      ],
      "text/plain": [
       "                                                 Genres\n",
       "177   Animation,Adventure,Comedy,Family,Fantasy,Mystery\n",
       "1326  Animation,Comedy,Drama,Family,Music,Musical,Ro...\n",
       "156                 Action,Crime,Horror,Sci-Fi,Thriller\n",
       "1007                                  Biography,Musical\n",
       "1321               Comedy,Family,Fantasy,Horror,Mystery\n",
       "820                 Action,Crime,Drama,History,Thriller\n",
       "632   Animation,Short,Adventure,Comedy,Family,Fantas...\n",
       "267                                             Romance\n",
       "245                        Action,Crime,Sci-Fi,Thriller\n",
       "506                     Fantasy,Horror,Mystery,Thriller"
      ]
     },
     "execution_count": 5,
     "metadata": {},
     "output_type": "execute_result"
    }
   ],
   "source": [
    "genres.sample(10)"
   ]
  },
  {
   "cell_type": "code",
   "execution_count": 6,
   "id": "sized-position",
   "metadata": {},
   "outputs": [
    {
     "name": "stdin",
     "output_type": "stream",
     "text": [
      "What kind of genre are you interested in? [Warning: case sensitive]  Thriller\n"
     ]
    }
   ],
   "source": [
    "genre = input('What kind of genre are you interested in? [Warning: case sensitive] ')"
   ]
  },
  {
   "cell_type": "code",
   "execution_count": 7,
   "id": "olive-slovakia",
   "metadata": {},
   "outputs": [],
   "source": [
    "filter = df['Genres'].str.contains(genre, na=False)"
   ]
  },
  {
   "cell_type": "code",
   "execution_count": 8,
   "id": "major-understanding",
   "metadata": {},
   "outputs": [],
   "source": [
    "movies = df[filter]"
   ]
  },
  {
   "cell_type": "code",
   "execution_count": 9,
   "id": "abstract-output",
   "metadata": {},
   "outputs": [],
   "source": [
    "#No Musical!"
   ]
  },
  {
   "cell_type": "code",
   "execution_count": 10,
   "id": "allied-virtue",
   "metadata": {},
   "outputs": [],
   "source": [
    "avoid_musical = ~movies['Genres'].str.contains('Musical', na=False)"
   ]
  },
  {
   "cell_type": "code",
   "execution_count": 11,
   "id": "olive-finger",
   "metadata": {},
   "outputs": [],
   "source": [
    "movies = movies[avoid_musical]"
   ]
  },
  {
   "cell_type": "code",
   "execution_count": 12,
   "id": "touched-siemens",
   "metadata": {},
   "outputs": [],
   "source": [
    "#Picking the columns we need\n",
    "col = ['Title', 'Year', 'IMDb', 'Rotten Tomatoes', 'Netflix', 'Hulu', 'Prime Video', 'Disney+', 'Runtime']"
   ]
  },
  {
   "cell_type": "code",
   "execution_count": 13,
   "id": "complete-satisfaction",
   "metadata": {},
   "outputs": [],
   "source": [
    "movies = movies[col]\n",
    "movies.dropna(inplace=True) #Drop any NaN"
   ]
  },
  {
   "cell_type": "code",
   "execution_count": 14,
   "id": "acquired-bryan",
   "metadata": {},
   "outputs": [],
   "source": [
    "#The votes are not numerical numbers, but strings like 'x/100' or 'x/10'. \n",
    "#Picking only the first two digits from the strings, then turning them into tenths."
   ]
  },
  {
   "cell_type": "code",
   "execution_count": 15,
   "id": "floppy-milan",
   "metadata": {},
   "outputs": [],
   "source": [
    "movies['IMDb'] = movies['IMDb'].str[0:3]\n",
    "movies['Rotten Tomatoes'] = movies['Rotten Tomatoes'].str[0:2]\n",
    "movies['Rotten Tomatoes'] = movies['Rotten Tomatoes'].astype(int)\n",
    "movies['Rotten Tomatoes'] /= 10\n",
    "movies['IMDb'] = movies['IMDb'].astype(float)"
   ]
  },
  {
   "cell_type": "code",
   "execution_count": 16,
   "id": "transparent-tobago",
   "metadata": {},
   "outputs": [],
   "source": [
    "#The Rating is an average of IMDB and Rotten Tomatoes' votes"
   ]
  },
  {
   "cell_type": "code",
   "execution_count": 17,
   "id": "powerful-scholarship",
   "metadata": {},
   "outputs": [],
   "source": [
    "movies['Rating'] = (movies['IMDb']+movies['Rotten Tomatoes'])/2\n",
    "movies['Rating'] = movies['Rating'].round(2)"
   ]
  },
  {
   "cell_type": "code",
   "execution_count": 18,
   "id": "constant-thomson",
   "metadata": {},
   "outputs": [],
   "source": [
    "movies['Runtime'] = movies['Runtime'].astype(int)"
   ]
  },
  {
   "cell_type": "code",
   "execution_count": 19,
   "id": "downtown-facility",
   "metadata": {},
   "outputs": [],
   "source": [
    "#Selecting the column that are important for the analysis\n",
    "col = ['Title', 'Year', 'Runtime', 'Rating', 'Netflix', 'Prime Video', 'Disney+']"
   ]
  },
  {
   "cell_type": "code",
   "execution_count": 20,
   "id": "detailed-couple",
   "metadata": {},
   "outputs": [],
   "source": [
    "#Netflix\n",
    "Netflix_df = movies.loc[movies['Netflix']==1]\n",
    "col=['Title', 'Year', 'Runtime', 'Rating']\n",
    "Netflix_df = Netflix_df[col]\n",
    "Netflix_df.sort_values(by=\"Rating\", ascending=False, inplace=True)"
   ]
  },
  {
   "cell_type": "code",
   "execution_count": 21,
   "id": "banned-anthony",
   "metadata": {},
   "outputs": [],
   "source": [
    "#AmazonPrimeVideo\n",
    "Prime_df = movies.loc[movies['Prime Video']==1]\n",
    "col=['Title', 'Year', 'Runtime', 'Rating']\n",
    "Prime_df = Prime_df[col]\n",
    "Prime_df.sort_values(by=\"Rating\", ascending=False, inplace=True)"
   ]
  },
  {
   "cell_type": "code",
   "execution_count": 22,
   "id": "partial-injury",
   "metadata": {},
   "outputs": [],
   "source": [
    "#Disney+\n",
    "Disney_df = movies.loc[movies['Disney+']==1]\n",
    "col=['Title', 'Year', 'Runtime', 'Rating']\n",
    "Disney_df = Disney_df[col]\n",
    "Disney_df.sort_values(by=\"Rating\", ascending=False, inplace=True)"
   ]
  },
  {
   "cell_type": "code",
   "execution_count": 23,
   "id": "stopped-contemporary",
   "metadata": {},
   "outputs": [],
   "source": [
    "#The result of the analysis is going to be saved as an excel file. The file name is the same as the genre been chosen."
   ]
  },
  {
   "cell_type": "code",
   "execution_count": 25,
   "id": "alone-membrane",
   "metadata": {},
   "outputs": [],
   "source": [
    "with pd.ExcelWriter(f'{genre}.xlsx') as file:\n",
    "    Netflix_df.to_excel(file, sheet_name='Netflix', index=False) #Sheet for Netflix Movies\n",
    "    Prime_df.to_excel(file, sheet_name='Prime Video', index=False) #Sheet for Prime Video Movies\n",
    "    Disney_df.to_excel(file, sheet_name='Disney +', index=False) #Sheet for Disney+ Movies"
   ]
  }
 ],
 "metadata": {
  "kernelspec": {
   "display_name": "Python 3",
   "language": "python",
   "name": "python3"
  },
  "language_info": {
   "codemirror_mode": {
    "name": "ipython",
    "version": 3
   },
   "file_extension": ".py",
   "mimetype": "text/x-python",
   "name": "python",
   "nbconvert_exporter": "python",
   "pygments_lexer": "ipython3",
   "version": "3.8.6"
  }
 },
 "nbformat": 4,
 "nbformat_minor": 5
}
